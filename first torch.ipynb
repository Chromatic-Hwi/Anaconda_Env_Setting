{
 "cells": [
  {
   "cell_type": "code",
   "execution_count": 5,
   "metadata": {},
   "outputs": [
    {
     "name": "stdout",
     "output_type": "stream",
     "text": [
      "pytorch's version is    >>>>> 1.10.0\n",
      "tensorflow's version is >>>>> 1.15.2\n"
     ]
    }
   ],
   "source": [
    "import torch\n",
    "from torch import nn\n",
    "from torch.utils.data import DataLoader\n",
    "from torchvision import datasets\n",
    "from torchvision.transforms import ToTensor, Lambda, Compose\n",
    "import matplotlib.pyplot as plt\n",
    "import tensorflow as tf\n",
    "\n",
    "print(\"pytorch's version is    >>>>> {}\".format(torch.__version__))\n",
    "print(\"tensorflow's version is >>>>> {}\".format(tf.__version__))"
   ]
  },
  {
   "cell_type": "code",
   "execution_count": 1,
   "metadata": {},
   "outputs": [
    {
     "data": {
      "text/plain": [
       "[('이것', 'NP'),\n",
       " ('은', 'JX'),\n",
       " ('메', 'VV+EC'),\n",
       " ('캅', 'NNP'),\n",
       " ('테스트', 'NNG'),\n",
       " ('입니다', 'VCP+EF'),\n",
       " ('.', 'SF'),\n",
       " ('사용', 'NNG'),\n",
       " ('자', 'XSN'),\n",
       " ('사전', 'NNG'),\n",
       " ('을', 'JKO'),\n",
       " ('등록', 'NNG'),\n",
       " ('하', 'XSV'),\n",
       " ('기', 'ETN'),\n",
       " ('전', 'NNG'),\n",
       " ('입니다', 'VCP+EF'),\n",
       " ('.', 'SF'),\n",
       " ('비타', 'NNP'),\n",
       " ('500', 'SN')]"
      ]
     },
     "execution_count": 1,
     "metadata": {},
     "output_type": "execute_result"
    }
   ],
   "source": [
    "from eunjeon import Mecab\n",
    "m = Mecab()\n",
    "m.pos(\"이것은 메캅 테스트입니다. 사용자 사전을 등록하기 전입니다. 비타500\")"
   ]
  },
  {
   "cell_type": "code",
   "execution_count": 2,
   "metadata": {},
   "outputs": [
    {
     "name": "stdout",
     "output_type": "stream",
     "text": [
      "tensor([[8.9082e-39, 8.9082e-39, 1.0194e-38],\n",
      "        [9.1837e-39, 4.6837e-39, 9.2755e-39],\n",
      "        [1.0837e-38, 8.4490e-39, 1.1112e-38],\n",
      "        [5.0510e-39, 9.9184e-39, 9.0000e-39],\n",
      "        [1.0561e-38, 1.0653e-38, 4.1327e-39],\n",
      "        [8.9082e-39, 9.8265e-39, 9.4592e-39]])\n"
     ]
    }
   ],
   "source": [
    "x = torch.empty(6,3)\n",
    "print(x)"
   ]
  },
  {
   "cell_type": "code",
   "execution_count": 17,
   "metadata": {},
   "outputs": [
    {
     "name": "stdout",
     "output_type": "stream",
     "text": [
      "[[1 2]\n",
      " [3 4]]\n"
     ]
    }
   ],
   "source": [
    "import numpy as np\n",
    "x2 = np.array([[1,2], [3,4]])\n",
    "print(x2)"
   ]
  }
 ],
 "metadata": {
  "kernelspec": {
   "display_name": "Python 3",
   "language": "python",
   "name": "python3"
  },
  "language_info": {
   "codemirror_mode": {
    "name": "ipython",
    "version": 3
   },
   "file_extension": ".py",
   "mimetype": "text/x-python",
   "name": "python",
   "nbconvert_exporter": "python",
   "pygments_lexer": "ipython3",
   "version": "3.7.9"
  }
 },
 "nbformat": 4,
 "nbformat_minor": 4
}
