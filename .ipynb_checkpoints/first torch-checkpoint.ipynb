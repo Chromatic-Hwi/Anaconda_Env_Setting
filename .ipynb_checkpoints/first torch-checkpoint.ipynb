{
 "cells": [
  {
   "cell_type": "code",
   "execution_count": 8,
   "metadata": {},
   "outputs": [
    {
     "name": "stdout",
     "output_type": "stream",
     "text": [
      "pytorch's version is >>>>> 1.10.0\n"
     ]
    }
   ],
   "source": [
    "import torch\n",
    "from torch import nn\n",
    "from torch.utils.data import DataLoader\n",
    "from torchvision import datasets\n",
    "from torchvision.transforms import ToTensor, Lambda, Compose\n",
    "import matplotlib.pyplot as plt\n",
    "\n",
    "print(\"pytorch's version is >>>>> {}\".format(torch.__version__))"
   ]
  },
  {
   "cell_type": "code",
   "execution_count": 14,
   "metadata": {},
   "outputs": [
    {
     "name": "stdout",
     "output_type": "stream",
     "text": [
      "tensor([[2.0758e-22, 4.5916e-41, 2.0758e-22],\n",
      "        [4.5916e-41, 2.0758e-22, 4.5916e-41],\n",
      "        [2.0758e-22, 4.5916e-41, 2.0758e-22],\n",
      "        [4.5916e-41, 2.0758e-22, 4.5916e-41],\n",
      "        [2.0758e-22, 4.5916e-41, 2.0758e-22],\n",
      "        [4.5916e-41, 2.0758e-22, 4.5916e-41]])\n"
     ]
    }
   ],
   "source": [
    "x = torch.empty(6,3)\n",
    "print(x)"
   ]
  },
  {
   "cell_type": "code",
   "execution_count": 17,
   "metadata": {},
   "outputs": [
    {
     "name": "stdout",
     "output_type": "stream",
     "text": [
      "[[1 2]\n",
      " [3 4]]\n"
     ]
    }
   ],
   "source": [
    "import numpy as np\n",
    "x2 = np.array([[1,2], [3,4]])\n",
    "print(x2)"
   ]
  }
 ],
 "metadata": {
  "kernelspec": {
   "display_name": "Python 3",
   "language": "python",
   "name": "python3"
  },
  "language_info": {
   "codemirror_mode": {
    "name": "ipython",
    "version": 3
   },
   "file_extension": ".py",
   "mimetype": "text/x-python",
   "name": "python",
   "nbconvert_exporter": "python",
   "pygments_lexer": "ipython3",
   "version": "3.7.9"
  }
 },
 "nbformat": 4,
 "nbformat_minor": 4
}
